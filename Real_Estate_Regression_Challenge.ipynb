{
  "nbformat": 4,
  "nbformat_minor": 0,
  "metadata": {
    "colab": {
      "name": "Real Estate Regression Challenge",
      "provenance": [],
      "authorship_tag": "ABX9TyN7x9Vk99zJpuMRFJemRZaP",
      "include_colab_link": true
    },
    "kernelspec": {
      "name": "python3",
      "display_name": "Python 3"
    },
    "language_info": {
      "name": "python"
    }
  },
  "cells": [
    {
      "cell_type": "markdown",
      "metadata": {
        "id": "view-in-github",
        "colab_type": "text"
      },
      "source": [
        "<a href=\"https://colab.research.google.com/github/pdebnam/Regression_Modeling_Real_Estate_Prices/blob/main/Real_Estate_Regression_Challenge.ipynb\" target=\"_parent\"><img src=\"https://colab.research.google.com/assets/colab-badge.svg\" alt=\"Open In Colab\"/></a>"
      ]
    },
    {
      "cell_type": "markdown",
      "source": [
        "#  Real Estate Regression Project\n",
        "\n",
        "$\\textbf{Problem}:$ Predicting the selling price of a residential property depends on a number of factors, including the property age, availability of local amenities, and location.\n",
        "\n",
        "$\\textbf{Goal}:$ Using a dataset of real estate transactions, develop a model(s) to predict the price-per-unit of a property based on its features. The price-per-unit in this data is based on a unit measurement of 3.3 square meters\n",
        "\n",
        "Citation: The data used in this exercise originates from the following study:\n",
        "\n",
        "Yeh, I. C., & Hsu, T. K. (2018). Building real estate valuation models with comparative approach through case-based reasoning. Applied Soft Computing, 65, 260-271.\n",
        "\n",
        "It was obtained from the UCI dataset repository (Dua, D. and Graff, C. (2019). UCI Machine Learning Repository. Irvine, CA: University of California, School of Information and Computer Science)."
      ],
      "metadata": {
        "id": "V8mPmcaGz6Hd"
      }
    },
    {
      "cell_type": "code",
      "source": [
        "# Import all modules needed for this project\n",
        "import pandas as pd\n",
        "import numpy as np\n",
        "from sklearn.model_selection import train_test_split, GridSearchCV\n",
        "from sklearn.linear_model import LinearRegression, Lasso\n",
        "from sklearn.ensemble import RandomForestRegressor, GradientBoostingRegressor\n",
        "from sklearn.metrics import mean_squared_error,r2_score, make_scorer\n",
        "from sklearn.compose import ColumnTransformer\n",
        "from sklearn.pipeline import Pipeline\n",
        "from sklearn.preprocessing import StandardScaler, OneHotEncoder\n",
        "import matplotlib.pyplot as plt\n",
        "%matplotlib inline"
      ],
      "metadata": {
        "id": "8SmlAXxTB7Lc"
      },
      "execution_count": 51,
      "outputs": []
    },
    {
      "cell_type": "code",
      "execution_count": 2,
      "metadata": {
        "colab": {
          "base_uri": "https://localhost:8080/",
          "height": 206
        },
        "id": "_1q9hY4Mz1A6",
        "outputId": "6c407bde-383a-4841-b3e0-a62284f18e44"
      },
      "outputs": [
        {
          "output_type": "execute_result",
          "data": {
            "text/html": [
              "\n",
              "  <div id=\"df-7805424b-45d2-4b57-bb89-d1597fb8ecba\">\n",
              "    <div class=\"colab-df-container\">\n",
              "      <div>\n",
              "<style scoped>\n",
              "    .dataframe tbody tr th:only-of-type {\n",
              "        vertical-align: middle;\n",
              "    }\n",
              "\n",
              "    .dataframe tbody tr th {\n",
              "        vertical-align: top;\n",
              "    }\n",
              "\n",
              "    .dataframe thead th {\n",
              "        text-align: right;\n",
              "    }\n",
              "</style>\n",
              "<table border=\"1\" class=\"dataframe\">\n",
              "  <thead>\n",
              "    <tr style=\"text-align: right;\">\n",
              "      <th></th>\n",
              "      <th>No</th>\n",
              "      <th>transaction_date</th>\n",
              "      <th>house_age</th>\n",
              "      <th>transit_distance</th>\n",
              "      <th>local_convenience_stores</th>\n",
              "      <th>latitude</th>\n",
              "      <th>longitude</th>\n",
              "      <th>price_per_unit</th>\n",
              "    </tr>\n",
              "  </thead>\n",
              "  <tbody>\n",
              "    <tr>\n",
              "      <th>0</th>\n",
              "      <td>1</td>\n",
              "      <td>2012.917</td>\n",
              "      <td>32.0</td>\n",
              "      <td>84.87882</td>\n",
              "      <td>10</td>\n",
              "      <td>24.98298</td>\n",
              "      <td>121.54024</td>\n",
              "      <td>37.9</td>\n",
              "    </tr>\n",
              "    <tr>\n",
              "      <th>1</th>\n",
              "      <td>2</td>\n",
              "      <td>2012.917</td>\n",
              "      <td>19.5</td>\n",
              "      <td>306.59470</td>\n",
              "      <td>9</td>\n",
              "      <td>24.98034</td>\n",
              "      <td>121.53951</td>\n",
              "      <td>42.2</td>\n",
              "    </tr>\n",
              "    <tr>\n",
              "      <th>2</th>\n",
              "      <td>3</td>\n",
              "      <td>2013.583</td>\n",
              "      <td>13.3</td>\n",
              "      <td>561.98450</td>\n",
              "      <td>5</td>\n",
              "      <td>24.98746</td>\n",
              "      <td>121.54391</td>\n",
              "      <td>47.3</td>\n",
              "    </tr>\n",
              "    <tr>\n",
              "      <th>3</th>\n",
              "      <td>4</td>\n",
              "      <td>2013.500</td>\n",
              "      <td>13.3</td>\n",
              "      <td>561.98450</td>\n",
              "      <td>5</td>\n",
              "      <td>24.98746</td>\n",
              "      <td>121.54391</td>\n",
              "      <td>54.8</td>\n",
              "    </tr>\n",
              "    <tr>\n",
              "      <th>4</th>\n",
              "      <td>5</td>\n",
              "      <td>2012.833</td>\n",
              "      <td>5.0</td>\n",
              "      <td>390.56840</td>\n",
              "      <td>5</td>\n",
              "      <td>24.97937</td>\n",
              "      <td>121.54245</td>\n",
              "      <td>43.1</td>\n",
              "    </tr>\n",
              "  </tbody>\n",
              "</table>\n",
              "</div>\n",
              "      <button class=\"colab-df-convert\" onclick=\"convertToInteractive('df-7805424b-45d2-4b57-bb89-d1597fb8ecba')\"\n",
              "              title=\"Convert this dataframe to an interactive table.\"\n",
              "              style=\"display:none;\">\n",
              "        \n",
              "  <svg xmlns=\"http://www.w3.org/2000/svg\" height=\"24px\"viewBox=\"0 0 24 24\"\n",
              "       width=\"24px\">\n",
              "    <path d=\"M0 0h24v24H0V0z\" fill=\"none\"/>\n",
              "    <path d=\"M18.56 5.44l.94 2.06.94-2.06 2.06-.94-2.06-.94-.94-2.06-.94 2.06-2.06.94zm-11 1L8.5 8.5l.94-2.06 2.06-.94-2.06-.94L8.5 2.5l-.94 2.06-2.06.94zm10 10l.94 2.06.94-2.06 2.06-.94-2.06-.94-.94-2.06-.94 2.06-2.06.94z\"/><path d=\"M17.41 7.96l-1.37-1.37c-.4-.4-.92-.59-1.43-.59-.52 0-1.04.2-1.43.59L10.3 9.45l-7.72 7.72c-.78.78-.78 2.05 0 2.83L4 21.41c.39.39.9.59 1.41.59.51 0 1.02-.2 1.41-.59l7.78-7.78 2.81-2.81c.8-.78.8-2.07 0-2.86zM5.41 20L4 18.59l7.72-7.72 1.47 1.35L5.41 20z\"/>\n",
              "  </svg>\n",
              "      </button>\n",
              "      \n",
              "  <style>\n",
              "    .colab-df-container {\n",
              "      display:flex;\n",
              "      flex-wrap:wrap;\n",
              "      gap: 12px;\n",
              "    }\n",
              "\n",
              "    .colab-df-convert {\n",
              "      background-color: #E8F0FE;\n",
              "      border: none;\n",
              "      border-radius: 50%;\n",
              "      cursor: pointer;\n",
              "      display: none;\n",
              "      fill: #1967D2;\n",
              "      height: 32px;\n",
              "      padding: 0 0 0 0;\n",
              "      width: 32px;\n",
              "    }\n",
              "\n",
              "    .colab-df-convert:hover {\n",
              "      background-color: #E2EBFA;\n",
              "      box-shadow: 0px 1px 2px rgba(60, 64, 67, 0.3), 0px 1px 3px 1px rgba(60, 64, 67, 0.15);\n",
              "      fill: #174EA6;\n",
              "    }\n",
              "\n",
              "    [theme=dark] .colab-df-convert {\n",
              "      background-color: #3B4455;\n",
              "      fill: #D2E3FC;\n",
              "    }\n",
              "\n",
              "    [theme=dark] .colab-df-convert:hover {\n",
              "      background-color: #434B5C;\n",
              "      box-shadow: 0px 1px 3px 1px rgba(0, 0, 0, 0.15);\n",
              "      filter: drop-shadow(0px 1px 2px rgba(0, 0, 0, 0.3));\n",
              "      fill: #FFFFFF;\n",
              "    }\n",
              "  </style>\n",
              "\n",
              "      <script>\n",
              "        const buttonEl =\n",
              "          document.querySelector('#df-7805424b-45d2-4b57-bb89-d1597fb8ecba button.colab-df-convert');\n",
              "        buttonEl.style.display =\n",
              "          google.colab.kernel.accessAllowed ? 'block' : 'none';\n",
              "\n",
              "        async function convertToInteractive(key) {\n",
              "          const element = document.querySelector('#df-7805424b-45d2-4b57-bb89-d1597fb8ecba');\n",
              "          const dataTable =\n",
              "            await google.colab.kernel.invokeFunction('convertToInteractive',\n",
              "                                                     [key], {});\n",
              "          if (!dataTable) return;\n",
              "\n",
              "          const docLinkHtml = 'Like what you see? Visit the ' +\n",
              "            '<a target=\"_blank\" href=https://colab.research.google.com/notebooks/data_table.ipynb>data table notebook</a>'\n",
              "            + ' to learn more about interactive tables.';\n",
              "          element.innerHTML = '';\n",
              "          dataTable['output_type'] = 'display_data';\n",
              "          await google.colab.output.renderOutput(dataTable, element);\n",
              "          const docLink = document.createElement('div');\n",
              "          docLink.innerHTML = docLinkHtml;\n",
              "          element.appendChild(docLink);\n",
              "        }\n",
              "      </script>\n",
              "    </div>\n",
              "  </div>\n",
              "  "
            ],
            "text/plain": [
              "   No  transaction_date  house_age  ...  latitude  longitude  price_per_unit\n",
              "0   1          2012.917       32.0  ...  24.98298  121.54024            37.9\n",
              "1   2          2012.917       19.5  ...  24.98034  121.53951            42.2\n",
              "2   3          2013.583       13.3  ...  24.98746  121.54391            47.3\n",
              "3   4          2013.500       13.3  ...  24.98746  121.54391            54.8\n",
              "4   5          2012.833        5.0  ...  24.97937  121.54245            43.1\n",
              "\n",
              "[5 rows x 8 columns]"
            ]
          },
          "metadata": {},
          "execution_count": 2
        }
      ],
      "source": [
        "# Load the training dataset\n",
        "data = pd.read_csv('real_estate.csv')\n",
        "data.head()"
      ]
    },
    {
      "cell_type": "markdown",
      "source": [
        "The data consists of the following variables:\n",
        "\n",
        "$\\textbf{transaction_date}$ - the transaction date (for example, 2013.250=2013 March, 2013.500=2013 June, etc.)\n",
        "\n",
        "$\\textbf{house_age}$  - the house age (in years)\n",
        "\n",
        "$\\textbf{transit_distance}$  - the distance to the nearest light rail station (in meters)\n",
        "\n",
        "$\\textbf{local_convenience_stores}$  - the number of convenience stores within walking distance\n",
        "\n",
        "$\\textbf{latitude}$  - the geographic coordinate, latitude\n",
        "\n",
        "$\\textbf{longitude}$  - the geographic coordinate, longitude\n",
        "\n",
        "$\\textbf{price_per_unit}$ -  house price of unit area (3.3 square meters)"
      ],
      "metadata": {
        "id": "r6l8jALc2ZDL"
      }
    },
    {
      "cell_type": "markdown",
      "source": [
        "## Data Exploration"
      ],
      "metadata": {
        "id": "jGa_SWem8jHI"
      }
    },
    {
      "cell_type": "code",
      "source": [
        "data.info()"
      ],
      "metadata": {
        "colab": {
          "base_uri": "https://localhost:8080/"
        },
        "id": "OssoyYSB8RLr",
        "outputId": "327a21fe-7a21-4bad-c4c3-33004c43d101"
      },
      "execution_count": 3,
      "outputs": [
        {
          "output_type": "stream",
          "name": "stdout",
          "text": [
            "<class 'pandas.core.frame.DataFrame'>\n",
            "RangeIndex: 414 entries, 0 to 413\n",
            "Data columns (total 8 columns):\n",
            " #   Column                    Non-Null Count  Dtype  \n",
            "---  ------                    --------------  -----  \n",
            " 0   No                        414 non-null    int64  \n",
            " 1   transaction_date          414 non-null    float64\n",
            " 2   house_age                 414 non-null    float64\n",
            " 3   transit_distance          414 non-null    float64\n",
            " 4   local_convenience_stores  414 non-null    int64  \n",
            " 5   latitude                  414 non-null    float64\n",
            " 6   longitude                 414 non-null    float64\n",
            " 7   price_per_unit            414 non-null    float64\n",
            "dtypes: float64(6), int64(2)\n",
            "memory usage: 26.0 KB\n"
          ]
        }
      ]
    },
    {
      "cell_type": "markdown",
      "source": [
        "Get a general idea of the dataset by reviewing its attributes and features"
      ],
      "metadata": {
        "id": "pyaj47Wz8pIb"
      }
    },
    {
      "cell_type": "code",
      "source": [
        "# Check for any missing values\n",
        "# There are none; data set is complete!\n",
        "data.isnull().sum()"
      ],
      "metadata": {
        "colab": {
          "base_uri": "https://localhost:8080/"
        },
        "id": "swQbeS0v_XET",
        "outputId": "947e3b6b-2c9b-4046-8440-1de2c3e5ded0"
      },
      "execution_count": 4,
      "outputs": [
        {
          "output_type": "execute_result",
          "data": {
            "text/plain": [
              "No                          0\n",
              "transaction_date            0\n",
              "house_age                   0\n",
              "transit_distance            0\n",
              "local_convenience_stores    0\n",
              "latitude                    0\n",
              "longitude                   0\n",
              "price_per_unit              0\n",
              "dtype: int64"
            ]
          },
          "metadata": {},
          "execution_count": 4
        }
      ]
    },
    {
      "cell_type": "markdown",
      "source": [
        "This dataset is complete (no missing values)."
      ],
      "metadata": {
        "id": "nzQT0EchK25N"
      }
    },
    {
      "cell_type": "code",
      "source": [
        "# Feature engineering to pull out the months of the year and create it as its own feature within the dataframe\n",
        "data['month'] = data['transaction_date'].astype('str').apply(lambda date: date.split('.')[1])\n",
        "data.head()"
      ],
      "metadata": {
        "colab": {
          "base_uri": "https://localhost:8080/",
          "height": 206
        },
        "id": "AJTH8NeY1qX9",
        "outputId": "6e16b464-1c85-4d27-f170-fa8c57ab618e"
      },
      "execution_count": 5,
      "outputs": [
        {
          "output_type": "execute_result",
          "data": {
            "text/html": [
              "\n",
              "  <div id=\"df-90ad5d06-dea8-4e9f-9911-42167c84c4bd\">\n",
              "    <div class=\"colab-df-container\">\n",
              "      <div>\n",
              "<style scoped>\n",
              "    .dataframe tbody tr th:only-of-type {\n",
              "        vertical-align: middle;\n",
              "    }\n",
              "\n",
              "    .dataframe tbody tr th {\n",
              "        vertical-align: top;\n",
              "    }\n",
              "\n",
              "    .dataframe thead th {\n",
              "        text-align: right;\n",
              "    }\n",
              "</style>\n",
              "<table border=\"1\" class=\"dataframe\">\n",
              "  <thead>\n",
              "    <tr style=\"text-align: right;\">\n",
              "      <th></th>\n",
              "      <th>No</th>\n",
              "      <th>transaction_date</th>\n",
              "      <th>house_age</th>\n",
              "      <th>transit_distance</th>\n",
              "      <th>local_convenience_stores</th>\n",
              "      <th>latitude</th>\n",
              "      <th>longitude</th>\n",
              "      <th>price_per_unit</th>\n",
              "      <th>month</th>\n",
              "    </tr>\n",
              "  </thead>\n",
              "  <tbody>\n",
              "    <tr>\n",
              "      <th>0</th>\n",
              "      <td>1</td>\n",
              "      <td>2012.917</td>\n",
              "      <td>32.0</td>\n",
              "      <td>84.87882</td>\n",
              "      <td>10</td>\n",
              "      <td>24.98298</td>\n",
              "      <td>121.54024</td>\n",
              "      <td>37.9</td>\n",
              "      <td>917</td>\n",
              "    </tr>\n",
              "    <tr>\n",
              "      <th>1</th>\n",
              "      <td>2</td>\n",
              "      <td>2012.917</td>\n",
              "      <td>19.5</td>\n",
              "      <td>306.59470</td>\n",
              "      <td>9</td>\n",
              "      <td>24.98034</td>\n",
              "      <td>121.53951</td>\n",
              "      <td>42.2</td>\n",
              "      <td>917</td>\n",
              "    </tr>\n",
              "    <tr>\n",
              "      <th>2</th>\n",
              "      <td>3</td>\n",
              "      <td>2013.583</td>\n",
              "      <td>13.3</td>\n",
              "      <td>561.98450</td>\n",
              "      <td>5</td>\n",
              "      <td>24.98746</td>\n",
              "      <td>121.54391</td>\n",
              "      <td>47.3</td>\n",
              "      <td>583</td>\n",
              "    </tr>\n",
              "    <tr>\n",
              "      <th>3</th>\n",
              "      <td>4</td>\n",
              "      <td>2013.500</td>\n",
              "      <td>13.3</td>\n",
              "      <td>561.98450</td>\n",
              "      <td>5</td>\n",
              "      <td>24.98746</td>\n",
              "      <td>121.54391</td>\n",
              "      <td>54.8</td>\n",
              "      <td>5</td>\n",
              "    </tr>\n",
              "    <tr>\n",
              "      <th>4</th>\n",
              "      <td>5</td>\n",
              "      <td>2012.833</td>\n",
              "      <td>5.0</td>\n",
              "      <td>390.56840</td>\n",
              "      <td>5</td>\n",
              "      <td>24.97937</td>\n",
              "      <td>121.54245</td>\n",
              "      <td>43.1</td>\n",
              "      <td>833</td>\n",
              "    </tr>\n",
              "  </tbody>\n",
              "</table>\n",
              "</div>\n",
              "      <button class=\"colab-df-convert\" onclick=\"convertToInteractive('df-90ad5d06-dea8-4e9f-9911-42167c84c4bd')\"\n",
              "              title=\"Convert this dataframe to an interactive table.\"\n",
              "              style=\"display:none;\">\n",
              "        \n",
              "  <svg xmlns=\"http://www.w3.org/2000/svg\" height=\"24px\"viewBox=\"0 0 24 24\"\n",
              "       width=\"24px\">\n",
              "    <path d=\"M0 0h24v24H0V0z\" fill=\"none\"/>\n",
              "    <path d=\"M18.56 5.44l.94 2.06.94-2.06 2.06-.94-2.06-.94-.94-2.06-.94 2.06-2.06.94zm-11 1L8.5 8.5l.94-2.06 2.06-.94-2.06-.94L8.5 2.5l-.94 2.06-2.06.94zm10 10l.94 2.06.94-2.06 2.06-.94-2.06-.94-.94-2.06-.94 2.06-2.06.94z\"/><path d=\"M17.41 7.96l-1.37-1.37c-.4-.4-.92-.59-1.43-.59-.52 0-1.04.2-1.43.59L10.3 9.45l-7.72 7.72c-.78.78-.78 2.05 0 2.83L4 21.41c.39.39.9.59 1.41.59.51 0 1.02-.2 1.41-.59l7.78-7.78 2.81-2.81c.8-.78.8-2.07 0-2.86zM5.41 20L4 18.59l7.72-7.72 1.47 1.35L5.41 20z\"/>\n",
              "  </svg>\n",
              "      </button>\n",
              "      \n",
              "  <style>\n",
              "    .colab-df-container {\n",
              "      display:flex;\n",
              "      flex-wrap:wrap;\n",
              "      gap: 12px;\n",
              "    }\n",
              "\n",
              "    .colab-df-convert {\n",
              "      background-color: #E8F0FE;\n",
              "      border: none;\n",
              "      border-radius: 50%;\n",
              "      cursor: pointer;\n",
              "      display: none;\n",
              "      fill: #1967D2;\n",
              "      height: 32px;\n",
              "      padding: 0 0 0 0;\n",
              "      width: 32px;\n",
              "    }\n",
              "\n",
              "    .colab-df-convert:hover {\n",
              "      background-color: #E2EBFA;\n",
              "      box-shadow: 0px 1px 2px rgba(60, 64, 67, 0.3), 0px 1px 3px 1px rgba(60, 64, 67, 0.15);\n",
              "      fill: #174EA6;\n",
              "    }\n",
              "\n",
              "    [theme=dark] .colab-df-convert {\n",
              "      background-color: #3B4455;\n",
              "      fill: #D2E3FC;\n",
              "    }\n",
              "\n",
              "    [theme=dark] .colab-df-convert:hover {\n",
              "      background-color: #434B5C;\n",
              "      box-shadow: 0px 1px 3px 1px rgba(0, 0, 0, 0.15);\n",
              "      filter: drop-shadow(0px 1px 2px rgba(0, 0, 0, 0.3));\n",
              "      fill: #FFFFFF;\n",
              "    }\n",
              "  </style>\n",
              "\n",
              "      <script>\n",
              "        const buttonEl =\n",
              "          document.querySelector('#df-90ad5d06-dea8-4e9f-9911-42167c84c4bd button.colab-df-convert');\n",
              "        buttonEl.style.display =\n",
              "          google.colab.kernel.accessAllowed ? 'block' : 'none';\n",
              "\n",
              "        async function convertToInteractive(key) {\n",
              "          const element = document.querySelector('#df-90ad5d06-dea8-4e9f-9911-42167c84c4bd');\n",
              "          const dataTable =\n",
              "            await google.colab.kernel.invokeFunction('convertToInteractive',\n",
              "                                                     [key], {});\n",
              "          if (!dataTable) return;\n",
              "\n",
              "          const docLinkHtml = 'Like what you see? Visit the ' +\n",
              "            '<a target=\"_blank\" href=https://colab.research.google.com/notebooks/data_table.ipynb>data table notebook</a>'\n",
              "            + ' to learn more about interactive tables.';\n",
              "          element.innerHTML = '';\n",
              "          dataTable['output_type'] = 'display_data';\n",
              "          await google.colab.output.renderOutput(dataTable, element);\n",
              "          const docLink = document.createElement('div');\n",
              "          docLink.innerHTML = docLinkHtml;\n",
              "          element.appendChild(docLink);\n",
              "        }\n",
              "      </script>\n",
              "    </div>\n",
              "  </div>\n",
              "  "
            ],
            "text/plain": [
              "   No  transaction_date  house_age  ...  longitude  price_per_unit  month\n",
              "0   1          2012.917       32.0  ...  121.54024            37.9    917\n",
              "1   2          2012.917       19.5  ...  121.53951            42.2    917\n",
              "2   3          2013.583       13.3  ...  121.54391            47.3    583\n",
              "3   4          2013.500       13.3  ...  121.54391            54.8      5\n",
              "4   5          2012.833        5.0  ...  121.54245            43.1    833\n",
              "\n",
              "[5 rows x 9 columns]"
            ]
          },
          "metadata": {},
          "execution_count": 5
        }
      ]
    },
    {
      "cell_type": "markdown",
      "source": [
        "I had some initial problems with understanding the date format, but concluded that the numbers to the right of the decimals represented the different months of the year. My conclusion was supported by the fact that there were 12 unique values. As a result, I did some feature engineering to create a new feature for the months specifically."
      ],
      "metadata": {
        "id": "qcDAONzDKSvh"
      }
    },
    {
      "cell_type": "code",
      "source": [
        "# 12 unique month values\n",
        "data['month'].unique()"
      ],
      "metadata": {
        "colab": {
          "base_uri": "https://localhost:8080/"
        },
        "id": "bdp8K1CG3ywq",
        "outputId": "013c7b4c-7d99-4a2f-b82f-ba7cc6adf128"
      },
      "execution_count": 6,
      "outputs": [
        {
          "output_type": "execute_result",
          "data": {
            "text/plain": [
              "array(['917', '583', '5', '833', '667', '417', '083', '333', '25', '75',\n",
              "       '0', '167'], dtype=object)"
            ]
          },
          "metadata": {},
          "execution_count": 6
        }
      ]
    },
    {
      "cell_type": "code",
      "source": [
        "# Separate the categorical and numeric features for further analysis\n",
        "categorical_features = ['month','local_convenience_stores']\n",
        "numeric_features = ['house_age','transit_distance','latitude',\n",
        "                    'longitude']"
      ],
      "metadata": {
        "id": "igtLsg5c7qnv"
      },
      "execution_count": 7,
      "outputs": []
    },
    {
      "cell_type": "markdown",
      "source": [
        "For future data manipulation and visualization, I separated the features into numeric and categorical. I decided to put the 'local_convenience_stores' feature as categorical due to the relatively low amount of discrete values represented."
      ],
      "metadata": {
        "id": "p2kPDQMYLAMu"
      }
    },
    {
      "cell_type": "code",
      "source": [
        "# Review key descriptive statistics\n",
        "data[numeric_features + ['price_per_unit']].describe()"
      ],
      "metadata": {
        "colab": {
          "base_uri": "https://localhost:8080/",
          "height": 300
        },
        "id": "fW-BmXaE-TEK",
        "outputId": "c810ab2b-a44b-499a-94b6-c523f9e55a8c"
      },
      "execution_count": 8,
      "outputs": [
        {
          "output_type": "execute_result",
          "data": {
            "text/html": [
              "\n",
              "  <div id=\"df-dd67b5e7-783c-40cd-895d-d011a7423911\">\n",
              "    <div class=\"colab-df-container\">\n",
              "      <div>\n",
              "<style scoped>\n",
              "    .dataframe tbody tr th:only-of-type {\n",
              "        vertical-align: middle;\n",
              "    }\n",
              "\n",
              "    .dataframe tbody tr th {\n",
              "        vertical-align: top;\n",
              "    }\n",
              "\n",
              "    .dataframe thead th {\n",
              "        text-align: right;\n",
              "    }\n",
              "</style>\n",
              "<table border=\"1\" class=\"dataframe\">\n",
              "  <thead>\n",
              "    <tr style=\"text-align: right;\">\n",
              "      <th></th>\n",
              "      <th>house_age</th>\n",
              "      <th>transit_distance</th>\n",
              "      <th>latitude</th>\n",
              "      <th>longitude</th>\n",
              "      <th>price_per_unit</th>\n",
              "    </tr>\n",
              "  </thead>\n",
              "  <tbody>\n",
              "    <tr>\n",
              "      <th>count</th>\n",
              "      <td>414.000000</td>\n",
              "      <td>414.000000</td>\n",
              "      <td>414.000000</td>\n",
              "      <td>414.000000</td>\n",
              "      <td>414.000000</td>\n",
              "    </tr>\n",
              "    <tr>\n",
              "      <th>mean</th>\n",
              "      <td>17.712560</td>\n",
              "      <td>1083.885689</td>\n",
              "      <td>24.969030</td>\n",
              "      <td>121.533361</td>\n",
              "      <td>37.980193</td>\n",
              "    </tr>\n",
              "    <tr>\n",
              "      <th>std</th>\n",
              "      <td>11.392485</td>\n",
              "      <td>1262.109595</td>\n",
              "      <td>0.012410</td>\n",
              "      <td>0.015347</td>\n",
              "      <td>13.606488</td>\n",
              "    </tr>\n",
              "    <tr>\n",
              "      <th>min</th>\n",
              "      <td>0.000000</td>\n",
              "      <td>23.382840</td>\n",
              "      <td>24.932070</td>\n",
              "      <td>121.473530</td>\n",
              "      <td>7.600000</td>\n",
              "    </tr>\n",
              "    <tr>\n",
              "      <th>25%</th>\n",
              "      <td>9.025000</td>\n",
              "      <td>289.324800</td>\n",
              "      <td>24.963000</td>\n",
              "      <td>121.528085</td>\n",
              "      <td>27.700000</td>\n",
              "    </tr>\n",
              "    <tr>\n",
              "      <th>50%</th>\n",
              "      <td>16.100000</td>\n",
              "      <td>492.231300</td>\n",
              "      <td>24.971100</td>\n",
              "      <td>121.538630</td>\n",
              "      <td>38.450000</td>\n",
              "    </tr>\n",
              "    <tr>\n",
              "      <th>75%</th>\n",
              "      <td>28.150000</td>\n",
              "      <td>1454.279000</td>\n",
              "      <td>24.977455</td>\n",
              "      <td>121.543305</td>\n",
              "      <td>46.600000</td>\n",
              "    </tr>\n",
              "    <tr>\n",
              "      <th>max</th>\n",
              "      <td>43.800000</td>\n",
              "      <td>6488.021000</td>\n",
              "      <td>25.014590</td>\n",
              "      <td>121.566270</td>\n",
              "      <td>117.500000</td>\n",
              "    </tr>\n",
              "  </tbody>\n",
              "</table>\n",
              "</div>\n",
              "      <button class=\"colab-df-convert\" onclick=\"convertToInteractive('df-dd67b5e7-783c-40cd-895d-d011a7423911')\"\n",
              "              title=\"Convert this dataframe to an interactive table.\"\n",
              "              style=\"display:none;\">\n",
              "        \n",
              "  <svg xmlns=\"http://www.w3.org/2000/svg\" height=\"24px\"viewBox=\"0 0 24 24\"\n",
              "       width=\"24px\">\n",
              "    <path d=\"M0 0h24v24H0V0z\" fill=\"none\"/>\n",
              "    <path d=\"M18.56 5.44l.94 2.06.94-2.06 2.06-.94-2.06-.94-.94-2.06-.94 2.06-2.06.94zm-11 1L8.5 8.5l.94-2.06 2.06-.94-2.06-.94L8.5 2.5l-.94 2.06-2.06.94zm10 10l.94 2.06.94-2.06 2.06-.94-2.06-.94-.94-2.06-.94 2.06-2.06.94z\"/><path d=\"M17.41 7.96l-1.37-1.37c-.4-.4-.92-.59-1.43-.59-.52 0-1.04.2-1.43.59L10.3 9.45l-7.72 7.72c-.78.78-.78 2.05 0 2.83L4 21.41c.39.39.9.59 1.41.59.51 0 1.02-.2 1.41-.59l7.78-7.78 2.81-2.81c.8-.78.8-2.07 0-2.86zM5.41 20L4 18.59l7.72-7.72 1.47 1.35L5.41 20z\"/>\n",
              "  </svg>\n",
              "      </button>\n",
              "      \n",
              "  <style>\n",
              "    .colab-df-container {\n",
              "      display:flex;\n",
              "      flex-wrap:wrap;\n",
              "      gap: 12px;\n",
              "    }\n",
              "\n",
              "    .colab-df-convert {\n",
              "      background-color: #E8F0FE;\n",
              "      border: none;\n",
              "      border-radius: 50%;\n",
              "      cursor: pointer;\n",
              "      display: none;\n",
              "      fill: #1967D2;\n",
              "      height: 32px;\n",
              "      padding: 0 0 0 0;\n",
              "      width: 32px;\n",
              "    }\n",
              "\n",
              "    .colab-df-convert:hover {\n",
              "      background-color: #E2EBFA;\n",
              "      box-shadow: 0px 1px 2px rgba(60, 64, 67, 0.3), 0px 1px 3px 1px rgba(60, 64, 67, 0.15);\n",
              "      fill: #174EA6;\n",
              "    }\n",
              "\n",
              "    [theme=dark] .colab-df-convert {\n",
              "      background-color: #3B4455;\n",
              "      fill: #D2E3FC;\n",
              "    }\n",
              "\n",
              "    [theme=dark] .colab-df-convert:hover {\n",
              "      background-color: #434B5C;\n",
              "      box-shadow: 0px 1px 3px 1px rgba(0, 0, 0, 0.15);\n",
              "      filter: drop-shadow(0px 1px 2px rgba(0, 0, 0, 0.3));\n",
              "      fill: #FFFFFF;\n",
              "    }\n",
              "  </style>\n",
              "\n",
              "      <script>\n",
              "        const buttonEl =\n",
              "          document.querySelector('#df-dd67b5e7-783c-40cd-895d-d011a7423911 button.colab-df-convert');\n",
              "        buttonEl.style.display =\n",
              "          google.colab.kernel.accessAllowed ? 'block' : 'none';\n",
              "\n",
              "        async function convertToInteractive(key) {\n",
              "          const element = document.querySelector('#df-dd67b5e7-783c-40cd-895d-d011a7423911');\n",
              "          const dataTable =\n",
              "            await google.colab.kernel.invokeFunction('convertToInteractive',\n",
              "                                                     [key], {});\n",
              "          if (!dataTable) return;\n",
              "\n",
              "          const docLinkHtml = 'Like what you see? Visit the ' +\n",
              "            '<a target=\"_blank\" href=https://colab.research.google.com/notebooks/data_table.ipynb>data table notebook</a>'\n",
              "            + ' to learn more about interactive tables.';\n",
              "          element.innerHTML = '';\n",
              "          dataTable['output_type'] = 'display_data';\n",
              "          await google.colab.output.renderOutput(dataTable, element);\n",
              "          const docLink = document.createElement('div');\n",
              "          docLink.innerHTML = docLinkHtml;\n",
              "          element.appendChild(docLink);\n",
              "        }\n",
              "      </script>\n",
              "    </div>\n",
              "  </div>\n",
              "  "
            ],
            "text/plain": [
              "        house_age  transit_distance    latitude   longitude  price_per_unit\n",
              "count  414.000000        414.000000  414.000000  414.000000      414.000000\n",
              "mean    17.712560       1083.885689   24.969030  121.533361       37.980193\n",
              "std     11.392485       1262.109595    0.012410    0.015347       13.606488\n",
              "min      0.000000         23.382840   24.932070  121.473530        7.600000\n",
              "25%      9.025000        289.324800   24.963000  121.528085       27.700000\n",
              "50%     16.100000        492.231300   24.971100  121.538630       38.450000\n",
              "75%     28.150000       1454.279000   24.977455  121.543305       46.600000\n",
              "max     43.800000       6488.021000   25.014590  121.566270      117.500000"
            ]
          },
          "metadata": {},
          "execution_count": 8
        }
      ]
    },
    {
      "cell_type": "markdown",
      "source": [
        "Observe statistical trends of the data. Of particular interest, the price_per_unit label has an average value of 37.98, with a standard deviation of 13.6. This infers that the prices of the units aren't too spread apart."
      ],
      "metadata": {
        "id": "3yT3-Ea7LdMJ"
      }
    },
    {
      "cell_type": "markdown",
      "source": [
        "## Data Visualization\n",
        "\n"
      ],
      "metadata": {
        "id": "plX3tUxKLzHy"
      }
    },
    {
      "cell_type": "code",
      "source": [
        "# Get the label column\n",
        "label = data['price_per_unit']\n",
        "\n",
        "# Will create a histogram and box plot to examine the distribution of the prices\n",
        "# Create a figure for 2 subplots (2 rows, 1 column)\n",
        "fig, ax = plt.subplots(2,1, figsize = (9,12))\n",
        "\n",
        "# Plot the histogram\n",
        "ax[0].hist(label,bins=100)\n",
        "ax[0].set_ylabel('Frequency')\n",
        "\n",
        "# Add lines for mean and median\n",
        "ax[0].axvline(label.mean(), color='magenta',linestyle='dashed',linewidth=2)\n",
        "ax[0].axvline(label.median(),color='cyan',linestyle='dashed',linewidth=2)\n",
        "\n",
        "# Plot the boxplot\n",
        "ax[1].boxplot(label, vert=False)\n",
        "ax[1].set_xlabel('Prices')\n",
        "\n",
        "# Add a title\n",
        "fig.suptitle('Price Distribution')\n",
        "\n",
        "fig.show()"
      ],
      "metadata": {
        "colab": {
          "base_uri": "https://localhost:8080/",
          "height": 801
        },
        "id": "KL1nizOVAM5r",
        "outputId": "503c2867-fb61-459c-b317-bbd1b820eb1a"
      },
      "execution_count": 10,
      "outputs": [
        {
          "output_type": "display_data",
          "data": {
            "image/png": "[encoded data removed]",
            "text/plain": [
              "<Figure size 648x864 with 2 Axes>"
            ]
          },
          "metadata": {
            "needs_background": "light"
          }
        }
      ]
    },
    {
      "cell_type": "markdown",
      "source": [
        "The housing prices appear to be represented by a normal distribution. Most of the prices are between 10 - 70, with a few outliers. "
      ],
      "metadata": {
        "id": "AqPIbfw8MJb4"
      }
    },
    {
      "cell_type": "code",
      "source": [
        "# Plot a histogram for each numeric feature to observe details\n",
        "for col in numeric_features:  \n",
        "  fig = plt.figure(figsize=(9,6))\n",
        "  ax = fig.gca()\n",
        "  feature = data[col]\n",
        "  ax.hist(feature,bins=100)\n",
        "  ax.axvline(feature.mean(),color='magenta',linestyle='dashed',linewidth=2)\n",
        "  ax.axvline(feature.median(),color='cyan',linestyle='dashed',linewidth=2)\n",
        "  ax.set_title(col)\n",
        "plt.show()"
      ],
      "metadata": {
        "colab": {
          "base_uri": "https://localhost:8080/",
          "height": 1000
        },
        "id": "BSqZCdWuBIhD",
        "outputId": "dfc58c20-1c55-4380-d858-f12af52a1ae4"
      },
      "execution_count": 11,
      "outputs": [
        {
          "output_type": "display_data",
          "data": {
            "image/png": "[encoded data removed]",
            "text/plain": [
              "<Figure size 648x432 with 1 Axes>"
            ]
          },
          "metadata": {
            "needs_background": "light"
          }
        },
        {
          "output_type": "display_data",
          "data": {
            "image/png": "[encoded data removed]",
            "text/plain": [
              "<Figure size 648x432 with 1 Axes>"
            ]
          },
          "metadata": {
            "needs_background": "light"
          }
        },
        {
          "output_type": "display_data",
          "data": {
            "image/png": "[encoded data removed]",
            "text/plain": [
              "<Figure size 648x432 with 1 Axes>"
            ]
          },
          "metadata": {
            "needs_background": "light"
          }
        },
        {
          "output_type": "display_data",
          "data": {
            "image/png": "[encoded data removed]",
            "text/plain": [
              "<Figure size 648x432 with 1 Axes>"
            ]
          },
          "metadata": {
            "needs_background": "light"
          }
        }
      ]
    },
    {
      "cell_type": "markdown",
      "source": [
        "In order to get an idea of the distribution of the other numerical features, I plotted individual histograms. Transit distance was interestingly skewed to the left. It appears that most people rely on public transporation in Taiwan. Will be interesting to see how this potentially affects the housing prices."
      ],
      "metadata": {
        "id": "etbLNJspO0I9"
      }
    },
    {
      "cell_type": "code",
      "source": [
        "# plot a bar plot for each categorical feature count\n",
        "for col in categorical_features:\n",
        "  counts = data[col].value_counts().sort_index()\n",
        "  fig = plt.figure(figsize=(9,6))\n",
        "  ax = fig.gca()\n",
        "  counts.plot.bar(ax=ax, color='steelblue')\n",
        "  ax.set_title(col + ' counts')\n",
        "  ax.set_xlabel(col)\n",
        "  plt.xticks(rotation = 0)\n",
        "  ax.set_ylabel('Frequency')\n",
        "plt.show()"
      ],
      "metadata": {
        "colab": {
          "base_uri": "https://localhost:8080/",
          "height": 792
        },
        "id": "5Dr2flHUDNkM",
        "outputId": "1df26add-8d22-433f-ea9d-0913d83f2f27"
      },
      "execution_count": 12,
      "outputs": [
        {
          "output_type": "display_data",
          "data": {
            "image/png": "[encoded data removed]",
            "text/plain": [
              "<Figure size 648x432 with 1 Axes>"
            ]
          },
          "metadata": {
            "needs_background": "light"
          }
        },
        {
          "output_type": "display_data",
          "data": {
            "image/png": "[encoded data removed]",
            "text/plain": [
              "<Figure size 648x432 with 1 Axes>"
            ]
          },
          "metadata": {
            "needs_background": "light"
          }
        }
      ]
    },
    {
      "cell_type": "markdown",
      "source": [
        "Most homes are sold in the beginning and middle of the years."
      ],
      "metadata": {
        "id": "2e7gl--uPgx1"
      }
    },
    {
      "cell_type": "code",
      "source": [
        "# Look for relationships between features and labels via scatter plots\n",
        "for col in numeric_features:\n",
        "  fig = plt.figure(figsize=(9,6))\n",
        "  ax = fig.gca()\n",
        "  feature = data[col]\n",
        "  label = data['price_per_unit']\n",
        "  correlation = feature.corr(label)\n",
        "  plt.scatter(x=feature,y=label)\n",
        "  plt.xlabel(col)\n",
        "  plt.ylabel('Price per unit')\n",
        "  ax.set_title('Price per unit vs ' + col + ': Correlation ' + str(correlation))\n",
        "plt.show()"
      ],
      "metadata": {
        "colab": {
          "base_uri": "https://localhost:8080/",
          "height": 1000
        },
        "id": "iJHn0zwkE21r",
        "outputId": "108b95e5-817b-4033-c69f-ab7021df62cb"
      },
      "execution_count": 13,
      "outputs": [
        {
          "output_type": "display_data",
          "data": {
            "image/png": "[encoded data removed]",
            "text/plain": [
              "<Figure size 648x432 with 1 Axes>"
            ]
          },
          "metadata": {
            "needs_background": "light"
          }
        },
        {
          "output_type": "display_data",
          "data": {
            "image/png": "[encoded data removed]",
            "text/plain": [
              "<Figure size 648x432 with 1 Axes>"
            ]
          },
          "metadata": {
            "needs_background": "light"
          }
        },
        {
          "output_type": "display_data",
          "data": {
            "image/png": "[encoded data removed]",
            "text/plain": [
              "<Figure size 648x432 with 1 Axes>"
            ]
          },
          "metadata": {
            "needs_background": "light"
          }
        },
        {
          "output_type": "display_data",
          "data": {
            "image/png": "[encoded data removed]",
            "text/plain": [
              "<Figure size 648x432 with 1 Axes>"
            ]
          },
          "metadata": {
            "needs_background": "light"
          }
        }
      ]
    },
    {
      "cell_type": "markdown",
      "source": [
        "![image.png](data:image/png;base64,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)"
      ],
      "metadata": {
        "id": "My41yDaGOEpe"
      }
    },
    {
      "cell_type": "code",
      "source": [
        "# Compare categorical features to label via box plots\n",
        "for col in categorical_features:\n",
        "  fig = plt.figure(figsize=(9,6))\n",
        "  ax = fig.gca()\n",
        "  data.boxplot(column = 'price_per_unit',by = col,ax = ax)\n",
        "  ax.set_title('Prices by ' + col)\n",
        "  ax.set_ylabel('Price per unit')\n",
        "plt.show()\n"
      ],
      "metadata": {
        "colab": {
          "base_uri": "https://localhost:8080/",
          "height": 913
        },
        "id": "EPuIGLGwIKkl",
        "outputId": "49410387-229a-4c3c-c66e-2c0cbec9d348"
      },
      "execution_count": 14,
      "outputs": [
        {
          "output_type": "stream",
          "name": "stderr",
          "text": [
            "/usr/local/lib/python3.7/dist-packages/numpy/core/_asarray.py:83: VisibleDeprecationWarning: Creating an ndarray from ragged nested sequences (which is a list-or-tuple of lists-or-tuples-or ndarrays with different lengths or shapes) is deprecated. If you meant to do this, you must specify 'dtype=object' when creating the ndarray\n",
            "  return array(a, dtype, copy=False, order=order)\n",
            "/usr/local/lib/python3.7/dist-packages/numpy/core/_asarray.py:83: VisibleDeprecationWarning: Creating an ndarray from ragged nested sequences (which is a list-or-tuple of lists-or-tuples-or ndarrays with different lengths or shapes) is deprecated. If you meant to do this, you must specify 'dtype=object' when creating the ndarray\n",
            "  return array(a, dtype, copy=False, order=order)\n"
          ]
        },
        {
          "output_type": "display_data",
          "data": {
            "image/png": "[encoded data removed]",
            "text/plain": [
              "<Figure size 648x432 with 1 Axes>"
            ]
          },
          "metadata": {
            "needs_background": "light"
          }
        },
        {
          "output_type": "display_data",
          "data": {
            "image/png": "[encoded data removed]",
            "text/plain": [
              "<Figure size 648x432 with 1 Axes>"
            ]
          },
          "metadata": {
            "needs_background": "light"
          }
        }
      ]
    },
    {
      "cell_type": "markdown",
      "source": [
        "There is a solid amount of variation in the prices when it comes to comparing them against the number of local convenience stores. The variation compared to the months is low. I will proceed with training the model without the use of that feature. "
      ],
      "metadata": {
        "id": "qFHDtbTgMu6a"
      }
    },
    {
      "cell_type": "markdown",
      "source": [
        "# Train a Regression Model\n",
        "\n",
        "The time has come to begin training a regresion model. This exercise will be broken down into these phases:\n",
        "\n",
        "1. Train a vanilla regression model (no feature scaling, parameter optimizations, etc.) to see how the model reacts to the data initially and get a base line of performance.\n",
        "2. Optimize parameters and train data on several models to observe performance across them."
      ],
      "metadata": {
        "id": "HNck0wgWQurC"
      }
    },
    {
      "cell_type": "markdown",
      "source": [
        "## Train a vanilla regression model"
      ],
      "metadata": {
        "id": "_nEmVHK3RTF5"
      }
    },
    {
      "cell_type": "code",
      "source": [
        "# Separate the features and labels\n",
        "X, y  = data[['house_age','transit_distance','local_convenience_stores','latitude','longitude']].values,data['price_per_unit'].values\n",
        "print('Features: ',X[:10],'\\nLabels: ',y[:10],sep='\\n')"
      ],
      "metadata": {
        "id": "SDFGBKwFSyhQ",
        "colab": {
          "base_uri": "https://localhost:8080/"
        },
        "outputId": "b17e9eb1-5357-4586-e094-41d5de4ebab3"
      },
      "execution_count": 26,
      "outputs": [
        {
          "output_type": "stream",
          "name": "stdout",
          "text": [
            "Features: \n",
            "[[3.2000000e+01 8.4878820e+01 1.0000000e+01 2.4982980e+01 1.2154024e+02]\n",
            " [1.9500000e+01 3.0659470e+02 9.0000000e+00 2.4980340e+01 1.2153951e+02]\n",
            " [1.3300000e+01 5.6198450e+02 5.0000000e+00 2.4987460e+01 1.2154391e+02]\n",
            " [1.3300000e+01 5.6198450e+02 5.0000000e+00 2.4987460e+01 1.2154391e+02]\n",
            " [5.0000000e+00 3.9056840e+02 5.0000000e+00 2.4979370e+01 1.2154245e+02]\n",
            " [7.1000000e+00 2.1750300e+03 3.0000000e+00 2.4963050e+01 1.2151254e+02]\n",
            " [3.4500000e+01 6.2347310e+02 7.0000000e+00 2.4979330e+01 1.2153642e+02]\n",
            " [2.0300000e+01 2.8760250e+02 6.0000000e+00 2.4980420e+01 1.2154228e+02]\n",
            " [3.1700000e+01 5.5120380e+03 1.0000000e+00 2.4950950e+01 1.2148458e+02]\n",
            " [1.7900000e+01 1.7831800e+03 3.0000000e+00 2.4967310e+01 1.2151486e+02]]\n",
            "\n",
            "Labels: \n",
            "[37.9 42.2 47.3 54.8 43.1 32.1 40.3 46.7 18.8 22.1]\n"
          ]
        }
      ]
    },
    {
      "cell_type": "markdown",
      "source": [
        "Separate the data into a set of features (X) and a set of labels (y)"
      ],
      "metadata": {
        "id": "O-kuBkKb7_4b"
      }
    },
    {
      "cell_type": "code",
      "source": [
        "# Split data 70%-30% into training and test sets\n",
        "X_train, X_test, y_train, y_test = train_test_split(X, y, test_size=0.30, random_state=101)\n",
        "\n",
        "print('Train Set: {} rows\\nTest Set: {} rows'.format(X_train.shape[0],X_test.shape[0]))"
      ],
      "metadata": {
        "colab": {
          "base_uri": "https://localhost:8080/"
        },
        "id": "h3T8ZFyY6-ZG",
        "outputId": "8d781498-92aa-4b24-8ac6-7ae7c23955ed"
      },
      "execution_count": 27,
      "outputs": [
        {
          "output_type": "stream",
          "name": "stdout",
          "text": [
            "Train Set: 289 rows\n",
            "Test Set: 125 rows\n"
          ]
        }
      ]
    },
    {
      "cell_type": "markdown",
      "source": [
        "Now we have the following four datasets:\n",
        "\n",
        "- **X_train**: The feature values we'll use to train the model\n",
        "- **y_train**: The corresponding labels we'll use to train the model\n",
        "- **X_test**: The feature values we'll use to validate the model\n",
        "- **y_test**: The corresponding labels we'll use to validate the model"
      ],
      "metadata": {
        "id": "L3udi52F8wcs"
      }
    },
    {
      "cell_type": "code",
      "source": [
        "# Train the fit the model to a Linear Regression\n",
        "model = LinearRegression().fit(X_train,y_train)\n",
        "print(model)"
      ],
      "metadata": {
        "colab": {
          "base_uri": "https://localhost:8080/"
        },
        "id": "agWd-RJk8mSC",
        "outputId": "676eeee9-5ef6-425a-dee2-7095d20911e9"
      },
      "execution_count": 28,
      "outputs": [
        {
          "output_type": "stream",
          "name": "stdout",
          "text": [
            "LinearRegression()\n"
          ]
        }
      ]
    },
    {
      "cell_type": "markdown",
      "source": [
        "The model has been trained. Now it is time to evaluate it. \n",
        "\n",
        "First I will run predictions for the test values through the model.\n",
        "\n",
        "After that, I will do a visual plot, followed by statistical analysis via MSE, RMSE, and R2 score metrics."
      ],
      "metadata": {
        "id": "3TLqDWuu9Cnm"
      }
    },
    {
      "cell_type": "code",
      "source": [
        "predictions = model.predict(X_test)"
      ],
      "metadata": {
        "id": "jZ5ubqXT9Arw"
      },
      "execution_count": 29,
      "outputs": []
    },
    {
      "cell_type": "code",
      "source": [
        "print('First 10 labels - Predicted vs. Actual')\n",
        "print('Predicted labels: ',np.round(predictions[:10],decimals=1))\n",
        "print('Actual labels:    ',y_test[:10])"
      ],
      "metadata": {
        "colab": {
          "base_uri": "https://localhost:8080/"
        },
        "id": "CapqLynT9Yjl",
        "outputId": "a14559fa-50f0-4e5d-9795-f53019ff6931"
      },
      "execution_count": 37,
      "outputs": [
        {
          "output_type": "stream",
          "name": "stdout",
          "text": [
            "First 10 labels - Predicted vs. Actual\n",
            "Predicted labels:  [14.1  8.  25.  48.6 30.7 36.9 38.4 40.9 46.6 40.8]\n",
            "Actual labels:     [19.2 11.2 24.7 46.1 31.3 31.1 30.5 42.2 51.  39.1]\n"
          ]
        }
      ]
    },
    {
      "cell_type": "markdown",
      "source": [
        "Comparing the first two values of the predictions and ground truths, one can observe the variance in values"
      ],
      "metadata": {
        "id": "SbQAZEqu_2-N"
      }
    },
    {
      "cell_type": "code",
      "source": [
        "plt.scatter(y_test,predictions)\n",
        "plt.xlabel('Actual Labels')\n",
        "plt.ylabel('Predicted Labels')\n",
        "plt.title('Actual vs Predicted Price Per Unit Values')\n",
        "#overlay a regression line\n",
        "z = np.polyfit(y_test,predictions,1)\n",
        "p = np.poly1d(z)\n",
        "plt.plot(y_test,p(y_test),color='magenta')\n",
        "plt.show()"
      ],
      "metadata": {
        "colab": {
          "base_uri": "https://localhost:8080/",
          "height": 295
        },
        "id": "OEpDEPBP9oUf",
        "outputId": "e87b797d-0df5-4502-9f79-13879859502d"
      },
      "execution_count": 47,
      "outputs": [
        {
          "output_type": "display_data",
          "data": {
            "image/png": "[encoded data removed]",
            "text/plain": [
              "<Figure size 432x288 with 1 Axes>"
            ]
          },
          "metadata": {
            "needs_background": "light"
          }
        }
      ]
    },
    {
      "cell_type": "markdown",
      "source": [
        "Visual scatter plot which shows actual vs. prediction labels, with a fitted regression line overlaid on top.\n",
        "\n",
        "There's a definite diagonal trend, and the intersections of the predicted and actual values are generally following the path of the trend line; but there's a fair amount of difference between the ideal function represented by the line and the results. This variance represents the *residuals* of the model - in other words, the difference between the label predicted when the model applies the coefficients it learned during training to the validation data, and the actual value of the validation label. These residuals when evaluated from the validation data indicate the expected level of *error* when the model is used with new data for which the label is unknown."
      ],
      "metadata": {
        "id": "GG05nCSV_oGF"
      }
    },
    {
      "cell_type": "code",
      "source": [
        "mse = mean_squared_error(y_test,predictions)\n",
        "rmse = np.sqrt(mse)\n",
        "r2 = r2_score(y_test,predictions)\n",
        "\n",
        "print('Statistical Metrics:')\n",
        "print('MSE: ',mse)\n",
        "print('RMSE: ',rmse)\n",
        "print('R2 (aka coefficient of determination): ',r2)"
      ],
      "metadata": {
        "colab": {
          "base_uri": "https://localhost:8080/"
        },
        "id": "EkJntr6d_mIg",
        "outputId": "29055930-3569-4210-ff2e-0e40b9edd418"
      },
      "execution_count": 49,
      "outputs": [
        {
          "output_type": "stream",
          "name": "stdout",
          "text": [
            "Statistical Metrics:\n",
            "MSE:  49.17005825812526\n",
            "RMSE:  7.012136497396871\n",
            "R2 (aka coefficient of determination):  0.6285584938117281\n"
          ]
        }
      ]
    },
    {
      "cell_type": "markdown",
      "source": [
        "The vanilla Regression model scored:\n",
        "\n",
        "- **Mean Square Error (MSE)**: 49.17\n",
        "- **Root Mean Square Error (RMSE)**: 7.012\n",
        "- **Coefficient of Determination (usually known as *R-squared* or R<sup>2</sup>**): 0.629\n",
        "\n",
        "For a baseline model, this does not appear to be too bad. Let's see how better we can do with other models and further optimizations"
      ],
      "metadata": {
        "id": "CIaA0zPwAxP8"
      }
    },
    {
      "cell_type": "markdown",
      "source": [
        "# Train stronger regression models"
      ],
      "metadata": {
        "id": "Iqog-7HHBf2R"
      }
    },
    {
      "cell_type": "markdown",
      "source": [
        "The first modification I will be doing will be preprocessing the data. I will scale all of the numeric features, and encode the categorical ones. Once this has been completed, I'll run it through the vanilla regression model again to see how the metrics change."
      ],
      "metadata": {
        "id": "gtBuAnq4DcM9"
      }
    },
    {
      "cell_type": "code",
      "source": [
        "# Define preprocessing for numeric columns (scale them)\n",
        "numeric_features = [0,1,3,4]\n",
        "numeric_transformer = Pipeline(steps=[('scaler', StandardScaler())])\n",
        "\n",
        "# Define preprocessing for categorical features (encode them)\n",
        "categorical_features = [2]\n",
        "categorical_transformer = Pipeline(steps=[('onehot', OneHotEncoder(handle_unknown='ignore'))])\n",
        "\n",
        "# Combine preprocessing steps\n",
        "preprocessor = ColumnTransformer(\n",
        "    transformers = [\n",
        "                    ('num',numeric_transformer,numeric_features),\n",
        "                    ('cat',categorical_transformer,categorical_features)])"
      ],
      "metadata": {
        "id": "-9C_iTA6AljE"
      },
      "execution_count": 58,
      "outputs": []
    },
    {
      "cell_type": "code",
      "source": [
        "# Create preprocessing and training pipeline (Linear Regression Model)\n",
        "pipeline = Pipeline(steps=[('preprocessor',preprocessor),\n",
        "                           ('regressor',LinearRegression())])\n",
        "\n",
        "# fit the pipeline to train model on training set\n",
        "model = pipeline.fit(X_train,(y_train))\n",
        "print(model)"
      ],
      "metadata": {
        "colab": {
          "base_uri": "https://localhost:8080/"
        },
        "id": "2XY7GyvoGKnL",
        "outputId": "a9258bbd-863d-448c-dcdf-019995b9711a"
      },
      "execution_count": 63,
      "outputs": [
        {
          "output_type": "stream",
          "name": "stdout",
          "text": [
            "Pipeline(steps=[('preprocessor',\n",
            "                 ColumnTransformer(transformers=[('num',\n",
            "                                                  Pipeline(steps=[('scaler',\n",
            "                                                                   StandardScaler())]),\n",
            "                                                  [0, 1, 3, 4]),\n",
            "                                                 ('cat',\n",
            "                                                  Pipeline(steps=[('onehot',\n",
            "                                                                   OneHotEncoder(handle_unknown='ignore'))]),\n",
            "                                                  [2])])),\n",
            "                ('regressor', LinearRegression())])\n"
          ]
        }
      ]
    },
    {
      "cell_type": "code",
      "source": [
        "# Get the predictions\n",
        "predictions = model.predict(X_test)"
      ],
      "metadata": {
        "id": "necD8EpWG1h3"
      },
      "execution_count": 64,
      "outputs": []
    },
    {
      "cell_type": "code",
      "source": [
        "mse = mean_squared_error(y_test,predictions)\n",
        "rmse = np.sqrt(mse)\n",
        "r2 = r2_score(y_test,predictions)\n",
        "\n",
        "print('Statistical Metrics:')\n",
        "print('MSE: ',mse)\n",
        "print('RMSE: ',rmse)\n",
        "print('R2 (aka coefficient of determination): ',r2)"
      ],
      "metadata": {
        "colab": {
          "base_uri": "https://localhost:8080/"
        },
        "id": "-8WV2GsJHB1-",
        "outputId": "fbd0b4e5-3197-462f-d7ab-dc8604c1cb6c"
      },
      "execution_count": 65,
      "outputs": [
        {
          "output_type": "stream",
          "name": "stdout",
          "text": [
            "Statistical Metrics:\n",
            "MSE:  46.72229308708164\n",
            "RMSE:  6.835370735159991\n",
            "R2 (aka coefficient of determination):  0.6470494538418069\n"
          ]
        }
      ]
    },
    {
      "cell_type": "markdown",
      "source": [
        "The vanilla Regression model with preprocessed data scored:\n",
        "\n",
        "**Mean Square Error (MSE)**: 46.722\n",
        "\n",
        "**Root Mean Square Error (RMSE)**: 6.835\n",
        "\n",
        "**Coefficient of Determination (usually known as R-squared or R2)**: 0.647\n",
        "\n",
        "Let's try the Lasso Linear Regression model next"
      ],
      "metadata": {
        "id": "5Xqt3DgCHU91"
      }
    },
    {
      "cell_type": "code",
      "source": [
        "# Alter the pipeline to use the Lasso model\n",
        "pipeline = Pipeline(steps=[('preprocessor',preprocessor),\n",
        "                           ('regressor',Lasso())])\n",
        "\n",
        "# fit the pipeline to train model on training set\n",
        "model = pipeline.fit(X_train,(y_train))\n",
        "print(model)\n",
        "\n",
        "# Get the predictions\n",
        "predictions = model.predict(X_test)\n",
        "\n",
        "mse = mean_squared_error(y_test,predictions)\n",
        "rmse = np.sqrt(mse)\n",
        "r2 = r2_score(y_test,predictions)\n",
        "\n",
        "print('Statistical Metrics:')\n",
        "print('MSE: ',mse)\n",
        "print('RMSE: ',rmse)\n",
        "print('R2 (aka coefficient of determination): ',r2)"
      ],
      "metadata": {
        "colab": {
          "base_uri": "https://localhost:8080/"
        },
        "id": "3D9qRZFcHCUU",
        "outputId": "c66e78fd-2ecd-4d76-e9db-5317789b9afe"
      },
      "execution_count": 59,
      "outputs": [
        {
          "output_type": "stream",
          "name": "stdout",
          "text": [
            "Pipeline(steps=[('preprocessor',\n",
            "                 ColumnTransformer(transformers=[('num',\n",
            "                                                  Pipeline(steps=[('scaler',\n",
            "                                                                   StandardScaler())]),\n",
            "                                                  [0, 1, 3, 4]),\n",
            "                                                 ('cat',\n",
            "                                                  Pipeline(steps=[('onehot',\n",
            "                                                                   OneHotEncoder(handle_unknown='ignore'))]),\n",
            "                                                  [2])])),\n",
            "                ('regressor', Lasso())])\n",
            "Statistical Metrics:\n",
            "MSE:  52.92863270662868\n",
            "RMSE:  7.275206712295444\n",
            "R2 (aka coefficient of determination):  0.6001653902903965\n"
          ]
        }
      ]
    },
    {
      "cell_type": "markdown",
      "source": [
        "The Lasso model fared worse.\n",
        "\n",
        "**Mean Square Error (MSE)**: 52.929\n",
        "\n",
        "**Root Mean Square Error (RMSE)**: 7.275\n",
        "\n",
        "**Coefficient of Determination (usually known as R-squared or R2)**: 0.6\n",
        "\n",
        "Let's try a Random Forest Regressor model next"
      ],
      "metadata": {
        "id": "OxI5rwnOIVdi"
      }
    },
    {
      "cell_type": "code",
      "source": [
        "# Alter the pipeline to use the Random Forest model\n",
        "pipeline = Pipeline(steps=[('preprocessor',preprocessor),\n",
        "                           ('regressor',RandomForestRegressor())])\n",
        "\n",
        "# fit the pipeline to train model on training set\n",
        "model = pipeline.fit(X_train,(y_train))\n",
        "print(model)\n",
        "\n",
        "# Get the predictions\n",
        "predictions = model.predict(X_test)\n",
        "\n",
        "mse = mean_squared_error(y_test,predictions)\n",
        "rmse = np.sqrt(mse)\n",
        "r2 = r2_score(y_test,predictions)\n",
        "\n",
        "print('Statistical Metrics:')\n",
        "print('MSE: ',mse)\n",
        "print('RMSE: ',rmse)\n",
        "print('R2 (aka coefficient of determination): ',r2)"
      ],
      "metadata": {
        "colab": {
          "base_uri": "https://localhost:8080/"
        },
        "id": "1DqT3Cq0Iixp",
        "outputId": "70323725-05aa-4839-8a4d-db288d946751"
      },
      "execution_count": 61,
      "outputs": [
        {
          "output_type": "stream",
          "name": "stdout",
          "text": [
            "Pipeline(steps=[('preprocessor',\n",
            "                 ColumnTransformer(transformers=[('num',\n",
            "                                                  Pipeline(steps=[('scaler',\n",
            "                                                                   StandardScaler())]),\n",
            "                                                  [0, 1, 3, 4]),\n",
            "                                                 ('cat',\n",
            "                                                  Pipeline(steps=[('onehot',\n",
            "                                                                   OneHotEncoder(handle_unknown='ignore'))]),\n",
            "                                                  [2])])),\n",
            "                ('regressor', RandomForestRegressor())])\n",
            "Statistical Metrics:\n",
            "MSE:  33.68994550488339\n",
            "RMSE:  5.804304050003187\n",
            "R2 (aka coefficient of determination):  0.7454986928011866\n"
          ]
        }
      ]
    },
    {
      "cell_type": "markdown",
      "source": [
        "The Random Forest model improved greatly upon the Linear Regression Model.\n",
        "\n",
        "**Mean Square Error (MSE)**: 33.69\n",
        "\n",
        "**Root Mean Square Error (RMSE)**: 5.804\n",
        "\n",
        "**Coefficient of Determination (usually known as R-squared or R2)**: 0.745\n",
        "\n",
        "Let's try a Gradient Boosting model for our last model"
      ],
      "metadata": {
        "id": "ZOK1fLCiJNnq"
      }
    },
    {
      "cell_type": "code",
      "source": [
        "# Alter the pipeline to use the Gradient Boosting model\n",
        "pipeline = Pipeline(steps=[('preprocessor',preprocessor),\n",
        "                           ('regressor',GradientBoostingRegressor())])\n",
        "\n",
        "# fit the pipeline to train model on training set\n",
        "model = pipeline.fit(X_train,(y_train))\n",
        "print(model)\n",
        "\n",
        "# Get the predictions\n",
        "predictions = model.predict(X_test)\n",
        "\n",
        "mse = mean_squared_error(y_test,predictions)\n",
        "rmse = np.sqrt(mse)\n",
        "r2 = r2_score(y_test,predictions)\n",
        "\n",
        "print('Statistical Metrics:')\n",
        "print('MSE: ',mse)\n",
        "print('RMSE: ',rmse)\n",
        "print('R2 (aka coefficient of determination): ',r2)"
      ],
      "metadata": {
        "colab": {
          "base_uri": "https://localhost:8080/"
        },
        "id": "sLm-WM-EI7J1",
        "outputId": "fcd0b5a9-3315-4b15-aec7-707f7e0d8252"
      },
      "execution_count": 62,
      "outputs": [
        {
          "output_type": "stream",
          "name": "stdout",
          "text": [
            "Pipeline(steps=[('preprocessor',\n",
            "                 ColumnTransformer(transformers=[('num',\n",
            "                                                  Pipeline(steps=[('scaler',\n",
            "                                                                   StandardScaler())]),\n",
            "                                                  [0, 1, 3, 4]),\n",
            "                                                 ('cat',\n",
            "                                                  Pipeline(steps=[('onehot',\n",
            "                                                                   OneHotEncoder(handle_unknown='ignore'))]),\n",
            "                                                  [2])])),\n",
            "                ('regressor', GradientBoostingRegressor())])\n",
            "Statistical Metrics:\n",
            "MSE:  32.30742277907672\n",
            "RMSE:  5.68396189106478\n",
            "R2 (aka coefficient of determination):  0.7559425755583987\n"
          ]
        }
      ]
    },
    {
      "cell_type": "markdown",
      "source": [
        "The Gradient Boosting Model fared the best\n",
        "\n",
        "**Mean Square Error (MSE)**: 32.307\n",
        "\n",
        "**Root Mean Square Error (RMSE)**: 5.684\n",
        "\n",
        "**Coefficient of Determination (usually known as R-squared or R2)**: 0.756"
      ],
      "metadata": {
        "id": "586N7aQXJ9On"
      }
    },
    {
      "cell_type": "markdown",
      "source": [
        "Let's make a new prediction"
      ],
      "metadata": {
        "id": "rlmZiz1bKf-E"
      }
    },
    {
      "cell_type": "code",
      "source": [
        "X_new = np.array([[9.2,202.34882,6,24.98443,121.54223]]).astype('float64')\n",
        "print('New sample: {}'.format(list(X_new[0])))"
      ],
      "metadata": {
        "colab": {
          "base_uri": "https://localhost:8080/"
        },
        "id": "i9MQSnu0KGl3",
        "outputId": "e10624a0-ae18-4424-fda8-bf31ec3b2062"
      },
      "execution_count": 69,
      "outputs": [
        {
          "output_type": "stream",
          "name": "stdout",
          "text": [
            "New sample: [9.2, 202.34882, 6.0, 24.98443, 121.54223]\n"
          ]
        }
      ]
    },
    {
      "cell_type": "code",
      "source": [
        "result = model.predict(X_new)\n",
        "print('Prediction: {}'.format(result[0]))"
      ],
      "metadata": {
        "colab": {
          "base_uri": "https://localhost:8080/"
        },
        "id": "bqvKLXHkLCpZ",
        "outputId": "26d117e4-acc6-49cf-b2a7-bffb96b0bb09"
      },
      "execution_count": 71,
      "outputs": [
        {
          "output_type": "stream",
          "name": "stdout",
          "text": [
            "Prediction: 53.4312616073027\n"
          ]
        }
      ]
    },
    {
      "cell_type": "code",
      "source": [
        ""
      ],
      "metadata": {
        "id": "XdMnvPjQLNM3"
      },
      "execution_count": null,
      "outputs": []
    }
  ]
}